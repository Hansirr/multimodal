{
 "cells": [
  {
   "cell_type": "code",
   "execution_count": 6,
   "metadata": {},
   "outputs": [],
   "source": [
    "from sklearn.metrics import confusion_matrix, classification_report\n",
    "import numpy as np\n",
    "import pandas as pd"
   ]
  },
  {
   "cell_type": "code",
   "execution_count": 7,
   "metadata": {},
   "outputs": [],
   "source": [
    "res = np.load(\"/home/rafaelpossas/dev/multimodal/src/models/production/policies/67.17_policy_alpha_01.pb.npy\")"
   ]
  },
  {
   "cell_type": "code",
   "execution_count": 10,
   "metadata": {},
   "outputs": [],
   "source": [
    "creport = classification_report(res[:, 0], res[:, 2])"
   ]
  },
  {
   "cell_type": "code",
   "execution_count": 13,
   "metadata": {},
   "outputs": [
    {
     "data": {
      "text/plain": [
       "'             precision    recall  f1-score   support\\n\\n          0       0.76      0.86      0.81        37\\n          1       0.81      0.76      0.79        58\\n         10       0.55      0.62      0.58        37\\n         11       0.20      0.38      0.26        16\\n         12       0.90      0.55      0.68        69\\n         13       0.90      0.66      0.76        41\\n         14       0.87      0.65      0.74        40\\n         15       0.45      0.61      0.52        31\\n         16       0.93      0.93      0.93        30\\n         17       0.94      0.98      0.96        52\\n         18       0.98      0.95      0.96        43\\n         19       0.87      0.57      0.68        46\\n          2       0.77      0.72      0.74        32\\n          3       0.21      0.56      0.31        16\\n          4       0.67      0.48      0.56        42\\n          5       0.62      0.60      0.61        43\\n          6       0.33      0.93      0.49        15\\n          7       0.83      0.56      0.67        63\\n          8       0.52      0.71      0.60        31\\n          9       0.41      0.44      0.42        50\\n\\navg / total       0.74      0.67      0.69       792\\n'"
      ]
     },
     "execution_count": 13,
     "metadata": {},
     "output_type": "execute_result"
    }
   ],
   "source": [
    "creport"
   ]
  },
  {
   "cell_type": "code",
   "execution_count": null,
   "metadata": {},
   "outputs": [],
   "source": []
  }
 ],
 "metadata": {
  "kernelspec": {
   "display_name": "Python 3",
   "language": "python",
   "name": "python3"
  },
  "language_info": {
   "codemirror_mode": {
    "name": "ipython",
    "version": 3
   },
   "file_extension": ".py",
   "mimetype": "text/x-python",
   "name": "python",
   "nbconvert_exporter": "python",
   "pygments_lexer": "ipython3",
   "version": "3.5.2"
  }
 },
 "nbformat": 4,
 "nbformat_minor": 1
}
